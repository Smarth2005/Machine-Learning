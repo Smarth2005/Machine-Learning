{
  "cells": [
    {
      "cell_type": "markdown",
      "metadata": {
        "id": "view-in-github",
        "colab_type": "text"
      },
      "source": [
        "<a href=\"https://colab.research.google.com/github/Smarth2005/Machine-Learning/blob/main/Linear_Regression_MLE.ipynb\" target=\"_parent\"><img src=\"https://colab.research.google.com/assets/colab-badge.svg\" alt=\"Open In Colab\"/></a>"
      ]
    },
    {
      "cell_type": "markdown",
      "id": "e49746d0-cc9f-49ea-9bd5-5fb0690e59cb",
      "metadata": {
        "id": "e49746d0-cc9f-49ea-9bd5-5fb0690e59cb"
      },
      "source": [
        "\n",
        "## **Linear Regression using Maximum Likelihood Estimation (MLE)**\n",
        "\n"
      ]
    },
    {
      "cell_type": "markdown",
      "source": [
        "The regression coefficients $β$ are calculated using the normal equation:\n",
        "$$\n",
        "β = (X^TX)^{-1} X^T Y\n",
        "$$\n",
        "\n",
        "$Derivation:$<br>\n",
        "We assume the Linear Regression Model: <br>\n",
        "$$\n",
        "Y = Xβ + ε\n",
        "$$\n",
        "Where:\n",
        "*   $\\mathbf{Y}$ is an $n \\times 1$ vector of outputs.\n",
        "*   $\\mathbf{X}$ is an $n \\times p$ matrix of input features (with a column of ones if intercept is included).\n",
        "*   $\\boldsymbol{\\beta}$ is a $p \\times 1$ vector of parameters.\n",
        "*   $\\boldsymbol{\\varepsilon} \\sim \\mathcal{N}(0, \\sigma^2)$ is the error term.\n",
        "\n",
        "\n"
      ],
      "metadata": {
        "id": "uHQafTbVZ6tu"
      },
      "id": "uHQafTbVZ6tu"
    },
    {
      "cell_type": "markdown",
      "source": [
        "The likelihood function of $Y$, given $X$ and $β$, assumes that the residuals are Gaussian.\n",
        "$$\n",
        "Y_i \\sim \\mathcal{N}(X_i β, \\sigma^2)\n",
        "$$\n",
        "\n",
        "<br>\n",
        "\n",
        "The probability density function of $Y_i$ is:\n",
        "$$\n",
        "f(Y_i | X, β, \\sigma^2) = \\frac{1}{\\sqrt{2π\\sigma^2}} \\exp \\left(\\frac{-1}{2\\sigma^2} (Y_i-X_i β)^2 \\right)\n",
        "$$\n",
        "\n",
        "<br>\n",
        "\n",
        "The likelihood function for all n samples is the product of individual probabilities:\n",
        "$$\n",
        "L(β,\\sigma^2) = \\prod_{i=1}^{n}  \\frac{1}{\\sqrt{2π\\sigma^2}} \\exp \\left(\\frac{-1}{2\\sigma^2} (Y_i-X_i β)^2 \\right)\n",
        "$$\n",
        "\n",
        "<br>\n",
        "\n",
        "$$\n",
        "L(β,\\sigma^2) = \\prod_{i=1}^{n}  \\frac{1}{(2π\\sigma^2)^{1/2}} \\exp \\left(\\frac{-1}{2\\sigma^2} (Y_i-X_i β)^2 \\right)\n",
        "$$\n",
        "\n",
        "<br>\n",
        "\n",
        "$$\n",
        "L(β,\\sigma^2) = \\frac{1}{(2\\pi \\sigma^2)^{n/2}} \\prod_{i=1}^{n} \\exp \\left(\\frac{-1}{2\\sigma^2} (Y_i-X_i β)^2 \\right)\n",
        "$$\n",
        "<br>\n",
        "\n",
        "Take natural logarithm both sides: (Remember, Product becomes summation by log properties).\n",
        "\n",
        "$Log-Likelihood$ $Function: $<br>\n",
        "$$\n",
        "\\log L(\\boldsymbol{\\beta}, \\sigma^2) = -\\frac{n}{2} \\log(2\\pi \\sigma^2) - \\frac{1}{2\\sigma^2} \\sum_{i=1}^{n} (Y_i-X_i β)^2\n",
        "$$\n",
        "\n",
        "<br>\n",
        "\n",
        "$$\n",
        "\\log L(\\boldsymbol{\\beta}, \\sigma^2) = -\\frac{n}{2} \\log(2\\pi \\sigma^2) - \\frac{1}{2\\sigma^2} (\\mathbf{Y} - \\mathbf{X} \\boldsymbol{\\beta})^\\top (\\mathbf{Y} - \\mathbf{X} \\boldsymbol{\\beta})\n",
        "$$\n",
        "\n",
        "<br>\n",
        "\n",
        "To estimate $\\boldsymbol{\\beta}$, we **maximize the log-likelihood**, which is equivalent to minimizing the sum of squared errors:\n",
        "$$\n",
        "\\hat{\\boldsymbol{\\beta}} = \\arg\\min_{\\boldsymbol{\\beta}} (\\mathbf{Y} - \\mathbf{X} \\boldsymbol{\\beta})^\\top (\\mathbf{Y} - \\mathbf{X} \\boldsymbol{\\beta})\n",
        "$$\n",
        "\n",
        "$Closed-Form Solution$\n",
        "\n",
        "Take the derivative of the objective function and set it to zero:\n",
        "$$\n",
        "\\frac{\\partial}{\\partial \\boldsymbol{\\beta}} \\left[ (\\mathbf{Y} - \\mathbf{X} \\boldsymbol{\\beta})^\\top (\\mathbf{Y} - \\mathbf{X} \\boldsymbol{\\beta}) \\right] = -2\\mathbf{X}^\\top (\\mathbf{Y} - \\mathbf{X} \\boldsymbol{\\beta}) = 0\n",
        "$$\n",
        "\n",
        "Solving:\n",
        "\n",
        "$$\n",
        "\\mathbf{X}^\\top \\mathbf{Y} = \\mathbf{X}^\\top \\mathbf{X} \\boldsymbol{\\beta}\n",
        "\\quad \\Rightarrow \\quad\n",
        "\\hat{\\boldsymbol{\\beta}} = (\\mathbf{X}^\\top \\mathbf{X})^{-1} \\mathbf{X}^\\top \\mathbf{Y}\n",
        "$$\n",
        "\n",
        "✅ This is the **MLE estimator for** $\\boldsymbol{\\beta}$ — same as in Ordinary Least Squares (OLS).\n",
        "\n",
        "$MLE$ $Estimation$ $of$ $\\sigma^2$\n",
        "\n",
        "Plug in $\\hat{\\boldsymbol{\\beta}}$ into the log-likelihood and maximize w.r.t. $\\sigma^2$:\n",
        "\n",
        "$$\n",
        "\\hat{\\sigma}^2 = \\frac{1}{n} (\\mathbf{Y} - \\mathbf{X} \\hat{\\boldsymbol{\\beta}})^\\top (\\mathbf{Y} - \\mathbf{X} \\hat{\\boldsymbol{\\beta}}) = \\frac{1}{n} \\text{RSS}\n",
        "$$\n",
        "\n",
        "⚠️ In OLS, the unbiased estimator uses denominator $(n - p)$ instead of $n$.\n",
        "\n",
        "#### ✅ Final MLE Estimators\n",
        "\n",
        "$$\n",
        "\\hat{\\boldsymbol{\\beta}} = (\\mathbf{X}^\\top \\mathbf{X})^{-1} \\mathbf{X}^\\top \\mathbf{Y}\n",
        "$$\n",
        "\n",
        "<br>\n",
        "\n",
        "$$\n",
        "\\hat{\\sigma}^2 = \\frac{1}{n} \\| \\mathbf{Y} - \\mathbf{X} \\hat{\\boldsymbol{\\beta}} \\|^2\n",
        "$$\n"
      ],
      "metadata": {
        "id": "nd8J6HO9dfl0"
      },
      "id": "nd8J6HO9dfl0"
    },
    {
      "cell_type": "code",
      "execution_count": 1,
      "id": "4f53830d-ad13-444b-a2c0-d4fa28cbd289",
      "metadata": {
        "id": "4f53830d-ad13-444b-a2c0-d4fa28cbd289"
      },
      "outputs": [],
      "source": [
        "import numpy as np\n",
        "import pandas as pd"
      ]
    },
    {
      "cell_type": "code",
      "execution_count": 2,
      "id": "ad009360-1bd5-479a-8a1e-cb0178ceb11c",
      "metadata": {
        "colab": {
          "base_uri": "https://localhost:8080/",
          "height": 73
        },
        "id": "ad009360-1bd5-479a-8a1e-cb0178ceb11c",
        "outputId": "3d72bf67-a2ae-458d-bbaf-c6f6ffaf4345"
      },
      "outputs": [
        {
          "output_type": "display_data",
          "data": {
            "text/plain": [
              "<IPython.core.display.HTML object>"
            ],
            "text/html": [
              "\n",
              "     <input type=\"file\" id=\"files-490ea7c0-1988-43dd-a0b3-6aee92f43365\" name=\"files[]\" multiple disabled\n",
              "        style=\"border:none\" />\n",
              "     <output id=\"result-490ea7c0-1988-43dd-a0b3-6aee92f43365\">\n",
              "      Upload widget is only available when the cell has been executed in the\n",
              "      current browser session. Please rerun this cell to enable.\n",
              "      </output>\n",
              "      <script>// Copyright 2017 Google LLC\n",
              "//\n",
              "// Licensed under the Apache License, Version 2.0 (the \"License\");\n",
              "// you may not use this file except in compliance with the License.\n",
              "// You may obtain a copy of the License at\n",
              "//\n",
              "//      http://www.apache.org/licenses/LICENSE-2.0\n",
              "//\n",
              "// Unless required by applicable law or agreed to in writing, software\n",
              "// distributed under the License is distributed on an \"AS IS\" BASIS,\n",
              "// WITHOUT WARRANTIES OR CONDITIONS OF ANY KIND, either express or implied.\n",
              "// See the License for the specific language governing permissions and\n",
              "// limitations under the License.\n",
              "\n",
              "/**\n",
              " * @fileoverview Helpers for google.colab Python module.\n",
              " */\n",
              "(function(scope) {\n",
              "function span(text, styleAttributes = {}) {\n",
              "  const element = document.createElement('span');\n",
              "  element.textContent = text;\n",
              "  for (const key of Object.keys(styleAttributes)) {\n",
              "    element.style[key] = styleAttributes[key];\n",
              "  }\n",
              "  return element;\n",
              "}\n",
              "\n",
              "// Max number of bytes which will be uploaded at a time.\n",
              "const MAX_PAYLOAD_SIZE = 100 * 1024;\n",
              "\n",
              "function _uploadFiles(inputId, outputId) {\n",
              "  const steps = uploadFilesStep(inputId, outputId);\n",
              "  const outputElement = document.getElementById(outputId);\n",
              "  // Cache steps on the outputElement to make it available for the next call\n",
              "  // to uploadFilesContinue from Python.\n",
              "  outputElement.steps = steps;\n",
              "\n",
              "  return _uploadFilesContinue(outputId);\n",
              "}\n",
              "\n",
              "// This is roughly an async generator (not supported in the browser yet),\n",
              "// where there are multiple asynchronous steps and the Python side is going\n",
              "// to poll for completion of each step.\n",
              "// This uses a Promise to block the python side on completion of each step,\n",
              "// then passes the result of the previous step as the input to the next step.\n",
              "function _uploadFilesContinue(outputId) {\n",
              "  const outputElement = document.getElementById(outputId);\n",
              "  const steps = outputElement.steps;\n",
              "\n",
              "  const next = steps.next(outputElement.lastPromiseValue);\n",
              "  return Promise.resolve(next.value.promise).then((value) => {\n",
              "    // Cache the last promise value to make it available to the next\n",
              "    // step of the generator.\n",
              "    outputElement.lastPromiseValue = value;\n",
              "    return next.value.response;\n",
              "  });\n",
              "}\n",
              "\n",
              "/**\n",
              " * Generator function which is called between each async step of the upload\n",
              " * process.\n",
              " * @param {string} inputId Element ID of the input file picker element.\n",
              " * @param {string} outputId Element ID of the output display.\n",
              " * @return {!Iterable<!Object>} Iterable of next steps.\n",
              " */\n",
              "function* uploadFilesStep(inputId, outputId) {\n",
              "  const inputElement = document.getElementById(inputId);\n",
              "  inputElement.disabled = false;\n",
              "\n",
              "  const outputElement = document.getElementById(outputId);\n",
              "  outputElement.innerHTML = '';\n",
              "\n",
              "  const pickedPromise = new Promise((resolve) => {\n",
              "    inputElement.addEventListener('change', (e) => {\n",
              "      resolve(e.target.files);\n",
              "    });\n",
              "  });\n",
              "\n",
              "  const cancel = document.createElement('button');\n",
              "  inputElement.parentElement.appendChild(cancel);\n",
              "  cancel.textContent = 'Cancel upload';\n",
              "  const cancelPromise = new Promise((resolve) => {\n",
              "    cancel.onclick = () => {\n",
              "      resolve(null);\n",
              "    };\n",
              "  });\n",
              "\n",
              "  // Wait for the user to pick the files.\n",
              "  const files = yield {\n",
              "    promise: Promise.race([pickedPromise, cancelPromise]),\n",
              "    response: {\n",
              "      action: 'starting',\n",
              "    }\n",
              "  };\n",
              "\n",
              "  cancel.remove();\n",
              "\n",
              "  // Disable the input element since further picks are not allowed.\n",
              "  inputElement.disabled = true;\n",
              "\n",
              "  if (!files) {\n",
              "    return {\n",
              "      response: {\n",
              "        action: 'complete',\n",
              "      }\n",
              "    };\n",
              "  }\n",
              "\n",
              "  for (const file of files) {\n",
              "    const li = document.createElement('li');\n",
              "    li.append(span(file.name, {fontWeight: 'bold'}));\n",
              "    li.append(span(\n",
              "        `(${file.type || 'n/a'}) - ${file.size} bytes, ` +\n",
              "        `last modified: ${\n",
              "            file.lastModifiedDate ? file.lastModifiedDate.toLocaleDateString() :\n",
              "                                    'n/a'} - `));\n",
              "    const percent = span('0% done');\n",
              "    li.appendChild(percent);\n",
              "\n",
              "    outputElement.appendChild(li);\n",
              "\n",
              "    const fileDataPromise = new Promise((resolve) => {\n",
              "      const reader = new FileReader();\n",
              "      reader.onload = (e) => {\n",
              "        resolve(e.target.result);\n",
              "      };\n",
              "      reader.readAsArrayBuffer(file);\n",
              "    });\n",
              "    // Wait for the data to be ready.\n",
              "    let fileData = yield {\n",
              "      promise: fileDataPromise,\n",
              "      response: {\n",
              "        action: 'continue',\n",
              "      }\n",
              "    };\n",
              "\n",
              "    // Use a chunked sending to avoid message size limits. See b/62115660.\n",
              "    let position = 0;\n",
              "    do {\n",
              "      const length = Math.min(fileData.byteLength - position, MAX_PAYLOAD_SIZE);\n",
              "      const chunk = new Uint8Array(fileData, position, length);\n",
              "      position += length;\n",
              "\n",
              "      const base64 = btoa(String.fromCharCode.apply(null, chunk));\n",
              "      yield {\n",
              "        response: {\n",
              "          action: 'append',\n",
              "          file: file.name,\n",
              "          data: base64,\n",
              "        },\n",
              "      };\n",
              "\n",
              "      let percentDone = fileData.byteLength === 0 ?\n",
              "          100 :\n",
              "          Math.round((position / fileData.byteLength) * 100);\n",
              "      percent.textContent = `${percentDone}% done`;\n",
              "\n",
              "    } while (position < fileData.byteLength);\n",
              "  }\n",
              "\n",
              "  // All done.\n",
              "  yield {\n",
              "    response: {\n",
              "      action: 'complete',\n",
              "    }\n",
              "  };\n",
              "}\n",
              "\n",
              "scope.google = scope.google || {};\n",
              "scope.google.colab = scope.google.colab || {};\n",
              "scope.google.colab._files = {\n",
              "  _uploadFiles,\n",
              "  _uploadFilesContinue,\n",
              "};\n",
              "})(self);\n",
              "</script> "
            ]
          },
          "metadata": {}
        },
        {
          "output_type": "stream",
          "name": "stdout",
          "text": [
            "Saving diabetes.csv to diabetes.csv\n"
          ]
        }
      ],
      "source": [
        "from google.colab import files\n",
        "uploaded = files.upload()"
      ]
    },
    {
      "cell_type": "code",
      "source": [
        "data = pd.read_csv('diabetes.csv')"
      ],
      "metadata": {
        "id": "hrueQ-Wg6ufD"
      },
      "id": "hrueQ-Wg6ufD",
      "execution_count": 3,
      "outputs": []
    },
    {
      "cell_type": "code",
      "execution_count": 4,
      "id": "b6bfdeb7-d12c-4596-ab77-3c5a639918d7",
      "metadata": {
        "id": "b6bfdeb7-d12c-4596-ab77-3c5a639918d7"
      },
      "outputs": [],
      "source": [
        "# Extract features (X) and the target variable (Y)\n",
        "X = data.iloc[:,:-1].values                # All columns except the last # Independent variables\n",
        "Y = data.iloc[:, -1].values                # Last column as the target   # Dependent variables"
      ]
    },
    {
      "cell_type": "code",
      "execution_count": 5,
      "id": "95b39941-87e7-4860-b17d-89d0cc940e4a",
      "metadata": {
        "id": "95b39941-87e7-4860-b17d-89d0cc940e4a"
      },
      "outputs": [],
      "source": [
        "# Add an intercept column to X\n",
        "X = np.hstack((np.ones((X.shape[0],1)),X)) # Adding a column of ones (column vector) for the intercept\n",
        "                                           # (X.shape[0],X) is the tuple passes in np.ones() which is then stack in front of matrix X using np.hstack()\n",
        "n, p = X.shape"
      ]
    },
    {
      "cell_type": "code",
      "execution_count": 6,
      "id": "04040bff-5f08-4243-8609-bdc1613b13e1",
      "metadata": {
        "colab": {
          "base_uri": "https://localhost:8080/"
        },
        "id": "04040bff-5f08-4243-8609-bdc1613b13e1",
        "outputId": "d7b94954-b53e-4bc6-b331-47cc99418d71"
      },
      "outputs": [
        {
          "output_type": "stream",
          "name": "stdout",
          "text": [
            "Estimated Coefficients (Beta):\n",
            "[-8.53894266e-01  2.05918715e-02  5.92027295e-03 -2.33187900e-03\n",
            "  1.54519792e-04 -1.80534514e-04  1.32440315e-02  1.47237439e-01\n",
            "  2.62139380e-03]\n",
            "\n",
            "Estimated Variance (Sigma^2):\n",
            "0.15829143131303658\n"
          ]
        }
      ],
      "source": [
        "# Step 2: Estimate beta (coefficients) using the Normal Equation\n",
        "# Normal Equation : beta = inv(X_transpose * X) * X_transpose * Y\n",
        "beta_hat = np.linalg.inv(X.T @ X) @ X.T @ Y   # linalg --> linear algebra\n",
        "                                              # @ --> matrix maultiplication\n",
        "\n",
        "# Step 3: Calculate the residuals\n",
        "residuals = Y - X @ beta_hat\n",
        "\n",
        "# Step 4: Estimate sigma^2 (variance)\n",
        "sigma_sq_hat = np.sum(residuals**2) / X.shape[0]  # Divide by n (not n-1)\n",
        "\n",
        "# Display the results\n",
        "print(\"Estimated Coefficients (Beta):\")\n",
        "print(beta_hat)\n",
        "\n",
        "print(\"\\nEstimated Variance (Sigma^2):\")\n",
        "print(sigma_sq_hat)"
      ]
    }
  ],
  "metadata": {
    "kernelspec": {
      "display_name": "Python 3 (ipykernel)",
      "language": "python",
      "name": "python3"
    },
    "language_info": {
      "codemirror_mode": {
        "name": "ipython",
        "version": 3
      },
      "file_extension": ".py",
      "mimetype": "text/x-python",
      "name": "python",
      "nbconvert_exporter": "python",
      "pygments_lexer": "ipython3",
      "version": "3.12.7"
    },
    "colab": {
      "provenance": [],
      "include_colab_link": true
    }
  },
  "nbformat": 4,
  "nbformat_minor": 5
}